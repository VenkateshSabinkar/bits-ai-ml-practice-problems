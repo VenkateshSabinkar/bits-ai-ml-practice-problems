{
  "cells": [
    {
      "cell_type": "markdown",
      "metadata": {
        "id": "MzZ4dJQYF7sH"
      },
      "source": [
        "# Artificial and Computational Intelligence Assignment 1"
      ]
    },
    {
      "cell_type": "markdown",
      "metadata": {
        "id": "Fxb1aE9zF7sK"
      },
      "source": [
        "## Problem solving by Uninformed & Informed Search"
      ]
    },
    {
      "cell_type": "markdown",
      "metadata": {
        "id": "h35jIBbCF7sK"
      },
      "source": [
        "List only the BITS (Name) of active contributors in this assignment:\n",
        "1. ___________________\n",
        "2. __________________\n",
        "3. ____________________\n",
        "4. ___________________\n",
        "5. ___________________"
      ]
    },
    {
      "cell_type": "markdown",
      "metadata": {
        "id": "pt5ygv_zF7sL"
      },
      "source": [
        "Things to follow\n",
        "1.\tUse appropriate data structures to represent the graph and the path using python libraries\n",
        "2.\tProvide proper documentation\n",
        "3.\tFind the path and print it"
      ]
    },
    {
      "cell_type": "markdown",
      "metadata": {
        "id": "wZfop5ElF7sL"
      },
      "source": [
        "Coding begins here"
      ]
    },
    {
      "cell_type": "markdown",
      "metadata": {
        "id": "IL0QDMy3F7sL"
      },
      "source": [
        "### 1.\tDefine the environment in the following block"
      ]
    },
    {
      "cell_type": "markdown",
      "metadata": {
        "id": "RYwJPNLIF7sM"
      },
      "source": [
        "## PEAS Description:\n",
        "- Performance: The performance of the agent will be measured by the efficiency and speed of finding the optimal path from New Delhi to Chennai with the lowest cost, considering factors like time taken and expected speed on each route, as well as ensuring the safety of the disaster management team.\n",
        "- Environment: The agent operates within a graph environment representing different locations connected by routes. The environment is dynamic due to the aftermath of Cyclone Michaung, affecting the conditions of the paths.\n",
        "- Actuators: In this context, the actuators would be the virtual actions the agent can take: moving from one node to another in the graph and making decisions at each node based on the heuristic or fitness function.\n",
        "- Sensors: The agent's sensors would be the input it receives about the graph: the nodes (representing locations), the edges (representing routes), and the cost of each route (time, speed)."
      ]
    },
    {
      "cell_type": "markdown",
      "metadata": {
        "id": "XJ3cHp1IF7sM"
      },
      "source": [
        "Design the agent as PSA Agent(Problem Solving Agent)\n",
        "Clear Initial data structures to define the graph and variable declarations is expected\n",
        "IMPORTATANT: Write distinct code block as below"
      ]
    },
    {
      "cell_type": "code",
      "execution_count": 19,
      "metadata": {
        "id": "osp61RsLF7sN"
      },
      "outputs": [],
      "source": [
        "#Code Block : Set Initial State (Must handle dynamic inputs)\n",
        "\n",
        "class Graph:\n",
        "    def __init__(self):\n",
        "        self.nodes = {}\n",
        "        self.edges = {}\n",
        "\n",
        "    def add_node(self, name):\n",
        "        self.nodes[name] = {}\n",
        "\n",
        "    def add_edge(self, start, end, time, speed):\n",
        "        self.edges[(start, end)] = {'time': time, 'speed': speed}\n",
        "        # Assuming the graph is undirected, you can add edges in both directions\n",
        "        self.nodes[start][end] = {'time': time, 'speed': speed}\n",
        "        self.nodes[end][start] = {'time': time, 'speed': speed}\n",
        "\n",
        "    # Function to add nodes and edges based on dynamic input\n",
        "    def add_from_input(self, input_data):\n",
        "        for edge_info in input_data:\n",
        "            start, end, time, speed = edge_info\n",
        "            if start not in self.nodes:\n",
        "                self.add_node(start)\n",
        "            if end not in self.nodes:\n",
        "                self.add_node(end)\n",
        "            self.add_edge(start, end, time, speed)\n",
        "\n",
        "\n"
      ]
    },
    {
      "cell_type": "code",
      "execution_count": 20,
      "metadata": {
        "id": "XODwoWZ0F7sO"
      },
      "outputs": [],
      "source": [
        "#Code Block : Set the matrix for transition & cost (as relevant for the given problem)\n",
        "\n",
        "class Graph:\n",
        "    # ... (previous code for the class)\n",
        "\n",
        "    def _resize_matrices(self):\n",
        "        size = len(self.node_list)\n",
        "        self.transition_matrix = [[float('inf')] * size for _ in range(size)]\n",
        "        self.cost_matrix = [[float('inf')] * size for _ in range(size)]\n",
        "\n",
        "    def _update_matrices(self, start, end, time, speed):\n",
        "        start_index = self.node_list.index(start)\n",
        "        end_index = self.node_list.index(end)\n",
        "        # Update the transition matrix with time taken for the path\n",
        "        self.transition_matrix[start_index][end_index] = time\n",
        "        self.transition_matrix[end_index][start_index] = time\n",
        "        # Update the cost matrix with the speed or other cost metric for the path\n",
        "        self.cost_matrix[start_index][end_index] = speed\n",
        "        self.cost_matrix[end_index][start_index] = speed\n"
      ]
    },
    {
      "cell_type": "code",
      "execution_count": 21,
      "metadata": {
        "id": "ro24Gaj7F7sO"
      },
      "outputs": [],
      "source": [
        "#Code Block : Write function to design the Transition Model/Successor function. Ideally this would be called while search algorithms are implemented\n",
        "\n",
        "class Graph:\n",
        "    # ... (previous code for the class)\n",
        "\n",
        "    def get_successors(self, node):\n",
        "        \"\"\" Returns a list of successors for a given node along with the cost of moving to each successor. \"\"\"\n",
        "        successors = []\n",
        "        if node in self.nodes:\n",
        "            for successor, cost in self.nodes[node].items():\n",
        "                successors.append((successor, cost))\n",
        "        return successors"
      ]
    },
    {
      "cell_type": "code",
      "execution_count": 22,
      "metadata": {
        "id": "HIVPhrRWF7sO"
      },
      "outputs": [],
      "source": [
        "#Code block : Write fucntion to handle goal test (Must handle dynamic inputs). Ideally this would be called while search algorithms are implemented\n",
        "\n",
        "class Graph:\n",
        "    # ... (previous code for the class)\n",
        "\n",
        "    def is_goal(self, node, goal):\n",
        "        \"\"\" Returns True if the node is the goal state, False otherwise. \"\"\"\n",
        "        return node == goal"
      ]
    },
    {
      "cell_type": "code",
      "execution_count": 24,
      "metadata": {},
      "outputs": [],
      "source": [
        "# Complete Code\n",
        "\n",
        "#Code Block : Set the matrix for transition & cost (as relevant for the given problem)\n",
        "\n",
        "class Graph:\n",
        "    def __init__(self):\n",
        "        self.nodes = {}\n",
        "        self.edges = {}\n",
        "        self.node_list = []\n",
        "        self.transition_matrix = []\n",
        "        self.cost_matrix = []\n",
        "\n",
        "    def add_node(self, name):\n",
        "        if name not in self.node_list:\n",
        "            self.node_list.append(name)\n",
        "            self.nodes[name] = {}\n",
        "            # Resize the matrices whenever a new node is added\n",
        "            self._resize_matrices()\n",
        "\n",
        "    def add_edge(self, start, end, time, speed):\n",
        "        self.edges[(start, end)] = {'time': time, 'speed': speed}\n",
        "        self.nodes[start][end] = {'time': time, 'speed': speed}\n",
        "        # Assuming undirected graph, add edges in both directions\n",
        "        self.nodes[end][start] = {'time': time, 'speed': speed}\n",
        "        # Update matrices with new edge data\n",
        "        self._update_matrices(start, end, time, speed)\n",
        "\n",
        "    def add_from_input(self, input_data):\n",
        "        for edge_info in input_data:\n",
        "            start, end, time, speed = edge_info\n",
        "            if start not in self.nodes:\n",
        "                self.add_node(start)\n",
        "            if end not in self.nodes:\n",
        "                self.add_node(end)\n",
        "            self.add_edge(start, end, time, speed)\n",
        "\n",
        "    def _resize_matrices(self):\n",
        "        size = len(self.node_list)\n",
        "        self.transition_matrix = [[float('inf')] * size for _ in range(size)]\n",
        "        self.cost_matrix = [[float('inf')] * size for _ in range(size)]\n",
        "\n",
        "    def _update_matrices(self, start, end, time, speed):\n",
        "        start_index = self.node_list.index(start)\n",
        "        end_index = self.node_list.index(end)\n",
        "        # Update the transition matrix with time taken for the path\n",
        "        self.transition_matrix[start_index][end_index] = time\n",
        "        self.transition_matrix[end_index][start_index] = time\n",
        "        # Update the cost matrix with the speed or other cost metric for the path\n",
        "        self.cost_matrix[start_index][end_index] = speed\n",
        "        self.cost_matrix[end_index][start_index] = speed\n",
        "\n",
        "    def get_successors(self, node):\n",
        "        \"\"\" Returns a list of successors for a given node along with the cost of moving to each successor. \"\"\"\n",
        "        successors = []\n",
        "        if node in self.nodes:\n",
        "            for successor, cost in self.nodes[node].items():\n",
        "                successors.append((successor, cost))\n",
        "        return successors\n",
        "    \n",
        "    def is_goal(self, node, goal):\n",
        "        \"\"\" Returns True if the node is the goal state, False otherwise. \"\"\"\n",
        "        return node == goal\n",
        "    \n",
        "    def h(self, node, goal):\n",
        "        \"\"\" Heuristic function that estimates the cost from node to goal \"\"\"\n",
        "        # Dummy implementation, replace with an appropriate heuristic for your problem\n",
        "        return abs(self.node_list.index(node) - self.node_list.index(goal))"
      ]
    },
    {
      "cell_type": "markdown",
      "metadata": {
        "id": "Z4QwDeX5F7sO"
      },
      "source": [
        "### 2.\tDefinition of Algorithm 1 (Iterative Deepening Algorithm)\n",
        "\n",
        "The IDA* (Iterative Deepening A*) algorithm is a search algorithm that combines the depth-first traversal's space-efficiency with the heuristic-guided search of the A* algorithm. It is designed to find the shortest path between a start node and a goal node in a graph. IDA* uses a recursive strategy, similar to depth-first search, but adds a cost limit (bound) that gradually increases with each iteration until the goal is found. This bound is based on the cost of the path (g) plus the estimated cost to reach the goal from the current node (h), known as the f-score in A* terminology."
      ]
    },
    {
      "cell_type": "code",
      "execution_count": 25,
      "metadata": {
        "id": "zD_EPCHWF7sO"
      },
      "outputs": [],
      "source": [
        "#Code Block : Functional Class for algorithm 1 implementation\n",
        "class IDAStar:\n",
        "    def __init__(self, graph, start, goal):\n",
        "        self.graph = graph\n",
        "        self.start = start\n",
        "        self.goal = goal\n",
        "\n",
        "    def search(self, path, g, bound):\n",
        "        node = path[-1]\n",
        "        f = g + self.graph.h(node, self.goal)\n",
        "        if f > bound:\n",
        "            return f, False\n",
        "        if self.graph.is_goal(node, self.goal):\n",
        "            return f, True  # Returning the path cost and True for found\n",
        "        min_bound = float('inf')\n",
        "        for successor, cost in self.graph.get_successors(node):\n",
        "            if successor not in path:  # Preventing cycles by checking if successor is not in the current path\n",
        "                path.append(successor)\n",
        "                t, found = self.search(path, g + cost['time'], bound)\n",
        "                if found:\n",
        "                    return t, True  # Path found\n",
        "                path.pop()  # Backtracking\n",
        "                if t < min_bound:\n",
        "                    min_bound = t\n",
        "        return min_bound, False\n",
        "\n",
        "    def ida_star(self):\n",
        "        bound = self.graph.h(self.start, self.goal)\n",
        "        path = [self.start]\n",
        "        while True:\n",
        "            t, found = self.search(path, 0, bound)\n",
        "            if found:\n",
        "                return path, t  # Returning the path and path cost\n",
        "            if t == float('inf'):\n",
        "                return None, float('inf')  # No solution found\n",
        "            bound = t\n"
      ]
    },
    {
      "cell_type": "markdown",
      "metadata": {
        "id": "KnbdDl6HF7sO"
      },
      "source": [
        "### 3.\tDefinition of Algorithm 2 (Mention the Name of the algorithm here)"
      ]
    },
    {
      "cell_type": "code",
      "execution_count": 11,
      "metadata": {
        "id": "3HYh7-eJF7sP"
      },
      "outputs": [],
      "source": [
        "#Code Block : Functional Class for algorithm 2 implementation\n",
        "\n",
        "import random\n",
        "\n",
        "class GeneticAlgorithm:\n",
        "    def __init__(self, graph, start, goal, population_size=100, mutation_rate=0.01, generations=100):\n",
        "        self.graph = graph\n",
        "        self.start = start\n",
        "        self.goal = goal\n",
        "        self.population_size = population_size\n",
        "        self.mutation_rate = mutation_rate\n",
        "        self.generations = generations\n",
        "        self.population = self.initial_population()\n",
        "\n",
        "    def initial_population(self):\n",
        "        # Generate initial population as random paths\n",
        "        population = []\n",
        "        for _ in range(self.population_size):\n",
        "            individual = self.random_path()\n",
        "            population.append(individual)\n",
        "        return population\n",
        "\n",
        "    def random_path(self):\n",
        "        # Generate a random path from start to goal\n",
        "        # This is a simplification, paths should ideally be valid and reach the goal\n",
        "        path = [self.start]\n",
        "        while path[-1] != self.goal:\n",
        "            successors = self.graph.get_successors(path[-1])\n",
        "            next_step = random.choice(successors)[0]\n",
        "            if next_step not in path:  # Prevent cycles\n",
        "                path.append(next_step)\n",
        "            if len(path) > len(self.graph.nodes):  # Break if path is too long\n",
        "                break\n",
        "        return path\n",
        "\n",
        "    def fitness(self, path):\n",
        "        # Calculate the fitness of a path: lower cost is better\n",
        "        cost = 0\n",
        "        for i in range(len(path) - 1):\n",
        "            if (path[i], path[i+1]) in self.graph.edges:\n",
        "                cost += self.graph.edges[(path[i], path[i+1])]['time']\n",
        "            else:\n",
        "                cost += float('inf')  # Penalize invalid transitions\n",
        "        return 1 / cost  # Higher fitness for lower cost\n",
        "\n",
        "    def select(self):\n",
        "        # Roulette wheel selection\n",
        "        fitness_scores = [self.fitness(individual) for individual in self.population]\n",
        "        total_fitness = sum(fitness_scores)\n",
        "        selection_probs = [fitness / total_fitness for fitness in fitness_scores]\n",
        "        return random.choices(self.population, weights=selection_probs, k=2)\n",
        "\n",
        "    def crossover(self, parent1, parent2):\n",
        "        # Single-point crossover\n",
        "        if len(parent1) > 1 and len(parent2) > 1:\n",
        "            crossover_point = random.randint(1, min(len(parent1), len(parent2)) - 1)\n",
        "            child = parent1[:crossover_point] + parent2[crossover_point:]\n",
        "            return child\n",
        "        return parent1\n",
        "\n",
        "    def mutate(self, individual):\n",
        "        # Randomly mutate an individual by changing a random step to a successor\n",
        "        if random.random() < self.mutation_rate:\n",
        "            mutation_point = random.randint(0, len(individual) - 2)\n",
        "            successors = self.graph.get_successors(individual[mutation_point])\n",
        "            if successors:\n",
        "                next_step = random.choice(successors)[0]\n",
        "                individual[mutation_point + 1] = next_step\n",
        "        return individual\n",
        "\n",
        "    def evolve(self):\n",
        "        for _ in range(self.generations):\n",
        "            new_population = []\n",
        "            for _ in range(self.population_size):\n",
        "                parent1, parent2 = self.select()\n",
        "                child = self.crossover(parent1, parent2)\n",
        "                child = self.mutate(child)\n",
        "                new_population.append(child)\n",
        "            self.population = new_population\n",
        "        # Return the best path found\n",
        "        best_path = max(self.population, key=self.fitness)\n",
        "        return best_path\n",
        "\n",
        "# Example usage\n",
        "# Assuming `graph` is an instance of the previously defined Graph class\n",
        "# ga = GeneticAlgorithm(graph=disaster_response_graph, start='New Delhi', goal='Chennai')\n",
        "# best_path = ga.evolve()\n",
        "# print(\"Best path found:\", best_path)\n"
      ]
    },
    {
      "cell_type": "markdown",
      "metadata": {
        "id": "LEV2XHccF7sP"
      },
      "source": [
        "### DYNAMIC INPUT"
      ]
    },
    {
      "cell_type": "markdown",
      "metadata": {
        "id": "CylYRo_DF7sP"
      },
      "source": [
        "IMPORTANT : Dynamic Input must be got in this section. Display the possible states to choose from:\n",
        "This is applicable for all the relevent problems as mentioned in the question."
      ]
    },
    {
      "cell_type": "code",
      "execution_count": 26,
      "metadata": {
        "id": "Q5t1Lc-wF7sP"
      },
      "outputs": [
        {
          "name": "stdout",
          "output_type": "stream",
          "text": [
            "Graph initialization completed. Possible states (nodes) to choose from:\n",
            "New Delhi\n",
            "A\n",
            "B\n",
            "C\n",
            "Chennai\n"
          ]
        }
      ],
      "source": [
        "#Code Block : Function & call to get inputs (start/end state)\n",
        "\n",
        "# Nodes identified from the image\n",
        "nodes = ['New Delhi', 'A', 'B', 'C', 'Chennai']\n",
        "\n",
        "# Edges with weights identified from the image (example format: (start, end, time, speed))\n",
        "edges = [\n",
        "    ('New Delhi', 'A', 5, 60),\n",
        "    ('A', 'B', 4, 50),\n",
        "    ('B', 'C', 3, 70),\n",
        "    ('C', 'Chennai', 2, 80),\n",
        "]\n",
        "\n",
        "# Initialize the graph with these nodes and edges\n",
        "disaster_response_graph = Graph()\n",
        "\n",
        "# Adding nodes to the graph (if the add_node method is designed to handle redundancy gracefully)\n",
        "for node in nodes:\n",
        "    disaster_response_graph.add_node(node)\n",
        "\n",
        "# Adding edges to the graph\n",
        "for edge in edges:\n",
        "    disaster_response_graph.add_edge(*edge)\n",
        "\n",
        "print(\"Graph initialization completed. Possible states (nodes) to choose from:\")\n",
        "for node in nodes:\n",
        "    print(node)\n"
      ]
    },
    {
      "cell_type": "markdown",
      "metadata": {
        "id": "xsfOP81lF7sP"
      },
      "source": [
        "### 4.\tCalling the search algorithms\n",
        "(For bidirectional search in below sections first part can be used as per Hint provided. Under second section other combinations as per Hint or your choice of 2 algorithms can be called .As an analyst suggest suitable approximation in the comparitive analysis section)"
      ]
    },
    {
      "cell_type": "code",
      "execution_count": 28,
      "metadata": {
        "id": "Og5zI9thF7sP"
      },
      "outputs": [
        {
          "name": "stdout",
          "output_type": "stream",
          "text": [
            "Path to goal: ['New Delhi', 'A', 'B', 'C', 'Chennai']\n",
            "Total cost of the path: 14\n"
          ]
        }
      ],
      "source": [
        "#Invoke algorithm 1 (Should Print the solution, path, cost etc., (As mentioned in the problem))\n",
        "\n",
        "ida_star_solver = IDAStar(graph=disaster_response_graph, start='New Delhi', goal='Chennai')\n",
        "path_to_goal, path_cost = ida_star_solver.ida_star()\n",
        "if path_to_goal:\n",
        "    print(\"Path to goal:\", path_to_goal)\n",
        "    print(\"Total cost of the path:\", path_cost)\n",
        "else:\n",
        "    print(\"No path found.\")\n"
      ]
    },
    {
      "cell_type": "code",
      "execution_count": 18,
      "metadata": {
        "id": "u3MJeA6eF7sP"
      },
      "outputs": [
        {
          "name": "stdout",
          "output_type": "stream",
          "text": [
            "Best path found by Genetic Algorithm: ['New Delhi', 'A', 'B', 'C', 'Chennai']\n",
            "Total cost of the best path: 14\n"
          ]
        }
      ],
      "source": [
        "#Invoke algorithm 2 (Should Print the solution, path, cost etc., (As mentioned in the problem))\n",
        "\n",
        "# Instantiate the Genetic Algorithm solver with the graph, start, and goal nodes\n",
        "ga_solver = GeneticAlgorithm(graph=disaster_response_graph, start='New Delhi', goal='Chennai')\n",
        "\n",
        "# Execute the Genetic Algorithm search to find the path\n",
        "best_path = ga_solver.evolve()\n",
        "\n",
        "if best_path:\n",
        "    print(\"Best path found by Genetic Algorithm:\", best_path)\n",
        "    # Calculate total cost along the path\n",
        "    total_cost = 0\n",
        "    for i in range(len(best_path) - 1):\n",
        "        edge_key = (best_path[i], best_path[i+1])\n",
        "        if edge_key in disaster_response_graph.edges:\n",
        "            total_cost += disaster_response_graph.edges[edge_key]['time']\n",
        "        else:\n",
        "            # Assuming a very high cost for invalid transitions not represented in the graph\n",
        "            total_cost += float('inf')\n",
        "    print(\"Total cost of the best path:\", total_cost)\n",
        "else:\n",
        "    print(\"No viable path found by Genetic Algorithm.\")\n"
      ]
    },
    {
      "cell_type": "markdown",
      "metadata": {
        "id": "TOU3Rem6F7sQ"
      },
      "source": [
        "### 5.\tComparitive Analysis"
      ]
    },
    {
      "cell_type": "code",
      "execution_count": null,
      "metadata": {},
      "outputs": [],
      "source": [
        "# Print Time and Space Compexity\n",
        "print(\"Time Complexity of IDA*: O(b^d) in the worst case, where b is the branching factor and d is the depth of the solution. The exact time complexity depends on the heuristic's quality.\")\n",
        "print(\"Space Complexity of IDA*: O(bd), where d is the depth of the solution. This is because IDA* stores only a single path from the root to a leaf node along with a stack of nodes to visit.\")"
      ]
    },
    {
      "cell_type": "markdown",
      "metadata": {
        "id": "xMButLKCF7sQ"
      },
      "source": [
        "### Code Block : Print the Time & Space complexity of algorithm 2\n",
        "\n",
        "#### Time Complexity of Genetic Algorithm:\n",
        "The time complexity of a Genetic Algorithm is primarily influenced by the number of generations (G), the population size (N), and the complexity of the fitness function (F).\n",
        "\n",
        "##### Overall Time Complexity: \n",
        "`O(G×N×F)`. Each generation involves evaluating the fitness of N individuals, and this process repeats for G generations. The complexity of evaluating a single individual's fitness is F, which depends on the problem domain.\n",
        "\n",
        "### Space Complexity of Genetic Algorithm:\n",
        "The space complexity is determined by the population size and the representation of individuals.\n",
        "\n",
        "##### Space Complexity\n",
        "\n",
        "`O(N×S)`, where S is the size of the individual representation. This accounts for storing the entire population of individuals across generations. If additional structures are used for selection or mutation, the space complexity might slightly increase but generally remains dependent on the population size and individual size.\n"
      ]
    },
    {
      "cell_type": "markdown",
      "metadata": {
        "id": "y2nXwAlsF7sQ"
      },
      "source": [
        "### 6.\tProvide your comparitive analysis or findings in no more than 3 lines in below section"
      ]
    },
    {
      "cell_type": "markdown",
      "metadata": {
        "id": "si483-zoF7sQ"
      },
      "source": [
        "Comparison : _______________________________________________\n",
        "\n",
        "________________________________________________________\n",
        "\n",
        "_________________________________________________________"
      ]
    }
  ],
  "metadata": {
    "colab": {
      "provenance": []
    },
    "kernelspec": {
      "display_name": "Python 3",
      "language": "python",
      "name": "python3"
    },
    "language_info": {
      "codemirror_mode": {
        "name": "ipython",
        "version": 3
      },
      "file_extension": ".py",
      "mimetype": "text/x-python",
      "name": "python",
      "nbconvert_exporter": "python",
      "pygments_lexer": "ipython3",
      "version": "3.12.0"
    }
  },
  "nbformat": 4,
  "nbformat_minor": 0
}
