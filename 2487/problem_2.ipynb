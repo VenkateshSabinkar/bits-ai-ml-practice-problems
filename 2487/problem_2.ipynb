{
 "cells": [
  {
   "cell_type": "code",
   "execution_count": null,
   "metadata": {},
   "outputs": [],
   "source": [
    "# Q2) Matrix decompositions\n",
    "# a) Consider a symmetric and positive definite matrix A of size n ×n.\n",
    "# Write a code to construct an elementary matrix for every elementary\n",
    "# row operation that is performed on A and using the theory explained\n",
    "# in the class write the decomposition of A as LU , where L is a lower\n",
    "# triangular matrix and U is an upper triangular matrix.\n",
    "# Deliverables: The code snippet showing the generation of elementary\n",
    "# matrices for a given elementary row operation and getting L and U ,\n",
    "# and verification of A = LU . (2 marks)\n",
    "# b) For the above problem, work out the Cholesky’s decomposition.\n",
    "# Deliverables: The code snippet showing the generation of L and\n",
    "# verification of A = LLT. (1 mark)\n",
    "# c) Given n linearly independent vectors in m dimensions (the correspond-\n",
    "# ing matrix with these as columns is A of size m ×n), with m > n,\n",
    "# read about the QR decomposition of a matrix and generate Q and R.\n",
    "# Deliverables: The code snippet generating Q and R. (1 mark)\n",
    "# d) Take a random 5 x 4 matrix having all its columns as linearly inde-\n",
    "# pendent and its decompose into Q and R. What is your observation\n",
    "# on the diagonal elements of R?\n",
    "# Deliverables: The random matrix, Q and R and your observation on\n",
    "# the diagonal elements of R (1 mark)"
   ]
  },
  {
   "cell_type": "code",
   "execution_count": 1,
   "metadata": {},
   "outputs": [
    {
     "name": "stdout",
     "output_type": "stream",
     "text": [
      "Random Matrix (5x4):\n",
      "[[0.88207618 0.06768339 0.89214497 0.22450207]\n",
      " [0.75933279 0.307719   0.74026497 0.59853998]\n",
      " [0.93485042 0.68310245 0.41524568 0.38375458]\n",
      " [0.57552339 0.8451104  0.81149104 0.75925303]\n",
      " [0.08262737 0.62409961 0.6625935  0.03600396]]\n",
      "\n",
      "Q Matrix:\n",
      "[[-0.55058356  0.48083364  0.46810776  0.3087787 ]\n",
      " [-0.4739683   0.13974931  0.19290442 -0.45259843]\n",
      " [-0.58352474 -0.16235497 -0.70517705  0.36287369]\n",
      " [-0.35923622 -0.56659707  0.10380535 -0.5408997 ]\n",
      " [-0.05157522 -0.6339383   0.48539962  0.52493863]]\n",
      "\n",
      "R Matrix:\n",
      "[[-1.60207504 -0.91750394 -1.41005899 -0.90583452]\n",
      " [ 0.         -0.90983484 -0.41482422 -0.3237256 ]\n",
      " [ 0.          0.          0.67345839  0.04622808]\n",
      " [ 0.          0.          0.         -0.45410223]]\n",
      "\n",
      "Observation on Diagonal Elements of R:\n",
      "[-1.60207504 -0.90983484  0.67345839 -0.45410223]\n"
     ]
    }
   ],
   "source": [
    "def constructElementaryMatrix(matrix):\n",
    "    row = len(matrix)\n",
    "    if row == 0:\n",
    "        return []\n",
    "    \n",
    "    col = len(matrix[0])\n",
    "\n",
    "    if row != col:\n",
    "        raise RuntimeError(\"matrix is not square\")\n",
    "    \n",
    "    \n",
    "    \n",
    "    "
   ]
  }
 ],
 "metadata": {
  "kernelspec": {
   "display_name": "venv",
   "language": "python",
   "name": "python3"
  },
  "language_info": {
   "codemirror_mode": {
    "name": "ipython",
    "version": 3
   },
   "file_extension": ".py",
   "mimetype": "text/x-python",
   "name": "python",
   "nbconvert_exporter": "python",
   "pygments_lexer": "ipython3",
   "version": "3.12.0"
  }
 },
 "nbformat": 4,
 "nbformat_minor": 2
}
