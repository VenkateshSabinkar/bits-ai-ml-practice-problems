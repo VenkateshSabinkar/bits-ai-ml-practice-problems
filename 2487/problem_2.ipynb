{
 "cells": [
  {
   "cell_type": "code",
   "execution_count": null,
   "metadata": {},
   "outputs": [],
   "source": [
    "# Q2) Matrix decompositions\n",
    "# a) Consider a symmetric and positive definite matrix A of size n ×n.\n",
    "# Write a code to construct an elementary matrix for every elementary\n",
    "# row operation that is performed on A and using the theory explained\n",
    "# in the class write the decomposition of A as LU , where L is a lower\n",
    "# triangular matrix and U is an upper triangular matrix.\n",
    "# Deliverables: The code snippet showing the generation of elementary\n",
    "# matrices for a given elementary row operation and getting L and U ,\n",
    "# and verification of A = LU . (2 marks)\n",
    "# b) For the above problem, work out the Cholesky’s decomposition.\n",
    "# Deliverables: The code snippet showing the generation of L and\n",
    "# verification of A = LLT. (1 mark)\n",
    "# c) Given n linearly independent vectors in m dimensions (the correspond-\n",
    "# ing matrix with these as columns is A of size m ×n), with m > n,\n",
    "# read about the QR decomposition of a matrix and generate Q and R.\n",
    "# Deliverables: The code snippet generating Q and R. (1 mark)\n",
    "# d) Take a random 5 x 4 matrix having all its columns as linearly inde-\n",
    "# pendent and its decompose into Q and R. What is your observation\n",
    "# on the diagonal elements of R?\n",
    "# Deliverables: The random matrix, Q and R and your observation on\n",
    "# the diagonal elements of R (1 mark)"
   ]
  }
 ],
 "metadata": {
  "kernelspec": {
   "display_name": "venv",
   "language": "python",
   "name": "python3"
  },
  "language_info": {
   "codemirror_mode": {
    "name": "ipython",
    "version": 3
   },
   "file_extension": ".py",
   "mimetype": "text/x-python",
   "name": "python",
   "nbconvert_exporter": "python",
   "pygments_lexer": "ipython3",
   "version": "3.12.0"
  }
 },
 "nbformat": 4,
 "nbformat_minor": 2
}
