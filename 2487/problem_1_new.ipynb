{
 "cells": [
  {
   "cell_type": "markdown",
   "metadata": {},
   "source": [
    "Write a code taking as input a matrix A of size m ×n and a vector b\n",
    "of size m ×1, where m and n are arbitrarily large numbers and m < n,\n",
    "constructing the augmented matrix and performing\n",
    "REF, and\n",
    "RREF\n",
    "without using any built-in functions. In case you encounter any divi-\n",
    "sion by 0, you can choose a different A and/or b\n",
    "\n",
    "b) Identify the pivot and non-pivot columns and find the particular solu-\n",
    "tion and solutions to Ax = 0.\n",
    "Deliverables: The code snippet showing the pivot and non-pivot\n",
    "columns, particular solution and the solutions to Ax = 0 \n",
    "\n",
    "c) Consider a random 5 × 7 matrix A and a suitable b and show the\n",
    "REF, RREF, pivot columns, non-pivot columns, the particular solu-\n",
    "tion, the solutions to Ax = 0, the general solution and verify the\n",
    "general solution."
   ]
  },
  {
   "cell_type": "code",
   "execution_count": 28,
   "metadata": {},
   "outputs": [],
   "source": [
    "def luDecomposition(matrix):\n",
    "    n = len(matrix)\n",
    "    \n",
    "    # Initialize L and U matrices\n",
    "    L = [[0] * n for _ in range(n)]\n",
    "    U = [[0] * n for _ in range(n)]\n",
    "\n",
    "    for i in range(n):\n",
    "        L[i][i] = 1\n",
    "\n",
    "    for i in range(n):\n",
    "        # Upper Triangular Matrix (U)\n",
    "        for j in range(i, n):\n",
    "            U[i][j] = matrix[i][j]\n",
    "            for k in range(i):\n",
    "                U[i][j] -= L[i][k] * U[k][j]\n",
    "\n",
    "        # Lower Triangular Matrix (L)\n",
    "        for j in range(i + 1, n):\n",
    "            L[j][i] = matrix[j][i]\n",
    "            for k in range(i):\n",
    "                L[j][i] -= L[j][k] * U[k][i]\n",
    "            L[j][i] /= U[i][i]\n",
    "\n",
    "    return L, U"
   ]
  },
  {
   "cell_type": "code",
   "execution_count": 30,
   "metadata": {},
   "outputs": [
    {
     "name": "stdout",
     "output_type": "stream",
     "text": [
      "[[1, 0, 0], [2.0, 1, 0], [3.0, 2.0, 1]]\n",
      "[[2, 1, 3], [0, 1.0, 1.0], [0, 0, 0.0]]\n"
     ]
    }
   ],
   "source": [
    "matrix = [\n",
    "    [2,1,3],\n",
    "    [4,3,7],\n",
    "    [6,5,11]\n",
    "]\n",
    "L,U = luDecomposition(matrix)\n",
    "print(L)\n",
    "print(U)"
   ]
  }
 ],
 "metadata": {
  "kernelspec": {
   "display_name": "venv",
   "language": "python",
   "name": "python3"
  },
  "language_info": {
   "codemirror_mode": {
    "name": "ipython",
    "version": 3
   },
   "file_extension": ".py",
   "mimetype": "text/x-python",
   "name": "python",
   "nbconvert_exporter": "python",
   "pygments_lexer": "ipython3",
   "version": "3.12.0"
  }
 },
 "nbformat": 4,
 "nbformat_minor": 2
}
