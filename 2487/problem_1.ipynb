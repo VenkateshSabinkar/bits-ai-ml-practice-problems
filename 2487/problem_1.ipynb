{
 "cells": [
  {
   "cell_type": "code",
   "execution_count": 95,
   "metadata": {},
   "outputs": [],
   "source": [
    "# Assignment problem\n",
    "# Write a code taking as input a matrix A of size m ×n and a vector b\n",
    "# of size m ×1, where m and n are arbitrarily large numbers and m < n,\n",
    "# constructing the augmented matrix and performing\n",
    "# REF, and\n",
    "# RREF\n",
    "# without using any built-in functions. In case you encounter any divi-\n",
    "# sion by 0, you can choose a different A and/or b\n",
    "\n",
    "def getAugmentedMatrix(A, b):\n",
    "    rows = len(A)\n",
    "    bLength = len(b)\n",
    "\n",
    "    if type(b[0]) != int:\n",
    "        raise RuntimeError(\"b is not a vector\")\n",
    "\n",
    "    if(rows != bLength):\n",
    "        raise RuntimeError(\"The number of rows in A and b are not equal\")\n",
    "    \n",
    "    if rows == 0:\n",
    "        raise RuntimeError(\"Empty matrix, nothing to reduce.\")\n",
    "    \n",
    "    # Constructing Matrix\n",
    "    matrix = []\n",
    "\n",
    "    for index,row in enumerate(A):\n",
    "        matrix.append([*row, b[index]])\n",
    "    return matrix\n",
    "\n",
    "def convertLeadingRowToUnit(row,leadingElementIndex):\n",
    "    if(row[leadingElementIndex] == 0):\n",
    "        raise RuntimeError(\"Singularity Error! Cannot divide by zero\")\n",
    "    leadingElement = row[leadingElementIndex]\n",
    "    newRow = []\n",
    "    for element in row:\n",
    "        newRow.append(element/leadingElement)\n",
    "    return newRow\n",
    "\n",
    "def reduceRows(matrix):\n",
    "    totalRows = len(matrix)\n",
    "    if(totalRows == 0):\n",
    "        return []\n",
    "    column = len(matrix[0])\n",
    "    for row in range(totalRows):\n",
    "        if row == 0:\n",
    "            continue\n",
    "        else:\n",
    "            multiplicationCoEfficient = matrix[row][row-1] / matrix[row-1][row-1]\n",
    "            newRow = []\n",
    "            for j in range(column):\n",
    "                if(matrix[row-1][row-1] == 0):\n",
    "                    raise RuntimeError(\"Singularity Error! Cannot divide by zero\")\n",
    "                newRowElement = matrix[row][j] - (multiplicationCoEfficient * matrix[row-1][j])\n",
    "                newRow.append(newRowElement)\n",
    "            matrix[row] = convertLeadingRowToUnit(newRow,row)\n",
    "\n",
    "    return matrix\n",
    "\n",
    "\n",
    "def REF(A, b):\n",
    "    augmentedMatrix = getAugmentedMatrix(A, b)\n",
    "    reducedMatrix = reduceRows(augmentedMatrix)\n",
    "    return reducedMatrix\n",
    "\n",
    "\n",
    "\n",
    "\n",
    "\n",
    "\n",
    "\n",
    "    "
   ]
  },
  {
   "cell_type": "code",
   "execution_count": 96,
   "metadata": {},
   "outputs": [],
   "source": [
    "def RREF(matrix):\n",
    "    rows = len(matrix)\n",
    "    columns = len(matrix[0])\n",
    "\n",
    "    # Computing Pivot Columns\n",
    "    pivot_cols = []\n",
    "    for row in matrix:\n",
    "        for col, val in enumerate(row):\n",
    "            if val != 0:\n",
    "                pivot_cols.append(col)\n",
    "                break\n",
    "\n",
    "    # Computing Non-Pivot Columns\n",
    "    all_cols = set(range(len(matrix[0])))\n",
    "    non_pivot_cols = list(all_cols - set(pivot_cols)) # Non Pivot Columns\n",
    "\n",
    "    for i in range(rows):\n",
    "        if i < len(pivot_cols):\n",
    "            pivot_col = pivot_cols[i]\n",
    "            pivot_value = matrix[i][pivot_col]\n",
    "            if pivot_value != 0:\n",
    "                # Scale the row so that the pivot element becomes 1\n",
    "                matrix[i] = [elem / pivot_value for elem in matrix[i]]\n",
    "\n",
    "                # Eliminate other entries in the pivot column\n",
    "                for j in range(rows):\n",
    "                    if j != i:\n",
    "                        multiplier = matrix[j][pivot_col]\n",
    "                        matrix[j] = [matrix[j][k] - multiplier * matrix[i][k] for k in range(columns)]\n",
    "    return (matrix, pivot_cols, non_pivot_cols)"
   ]
  },
  {
   "cell_type": "code",
   "execution_count": 99,
   "metadata": {},
   "outputs": [],
   "source": [
    "# Solves Equation Ax = 0 for homogenous and particular solutions\n",
    "\n",
    "def solveEquation(reducedRowEchelon, non_pivot_cols):\n",
    "    particular_solution = {col: 0 for col in non_pivot_cols}\n",
    "    homogeneous_solutions = []\n",
    "    for row in reducedRowEchelon:\n",
    "        leading_1_col = next((col for col, val in enumerate(row) if val == 1), None)\n",
    "        if leading_1_col is not None:\n",
    "            particular_solution[leading_1_col] = row[-1]\n",
    "        homogeneous_solutions.append({col: -row[col] for col in non_pivot_cols})\n",
    "    return (particular_solution, homogeneous_solutions)\n"
   ]
  },
  {
   "cell_type": "code",
   "execution_count": 108,
   "metadata": {},
   "outputs": [
    {
     "ename": "RuntimeError",
     "evalue": "Singularity Error! Cannot divide by zero",
     "output_type": "error",
     "traceback": [
      "\u001b[0;31m---------------------------------------------------------------------------\u001b[0m",
      "\u001b[0;31mRuntimeError\u001b[0m                              Traceback (most recent call last)",
      "\u001b[1;32m/Users/shivamsahil/Downloads/bits/assignments/2487/assignment_1.ipynb Cell 4\u001b[0m line \u001b[0;36m1\n\u001b[0;32m----> <a href='vscode-notebook-cell:/Users/shivamsahil/Downloads/bits/assignments/2487/assignment_1.ipynb#X10sZmlsZQ%3D%3D?line=0'>1</a>\u001b[0m refMatrix \u001b[39m=\u001b[39m REF(\n\u001b[1;32m      <a href='vscode-notebook-cell:/Users/shivamsahil/Downloads/bits/assignments/2487/assignment_1.ipynb#X10sZmlsZQ%3D%3D?line=1'>2</a>\u001b[0m     [\n\u001b[1;32m      <a href='vscode-notebook-cell:/Users/shivamsahil/Downloads/bits/assignments/2487/assignment_1.ipynb#X10sZmlsZQ%3D%3D?line=2'>3</a>\u001b[0m         [\u001b[39m1\u001b[39;49m,\u001b[39m1\u001b[39;49m,\u001b[39m4\u001b[39;49m,\u001b[39m3\u001b[39;49m,\u001b[39m4\u001b[39;49m,\u001b[39m2\u001b[39;49m,\u001b[39m2\u001b[39;49m],\n\u001b[1;32m      <a href='vscode-notebook-cell:/Users/shivamsahil/Downloads/bits/assignments/2487/assignment_1.ipynb#X10sZmlsZQ%3D%3D?line=3'>4</a>\u001b[0m         [\u001b[39m4\u001b[39;49m,\u001b[39m6\u001b[39;49m,\u001b[39m8\u001b[39;49m,\u001b[39m4\u001b[39;49m,\u001b[39m3\u001b[39;49m,\u001b[39m-\u001b[39;49m\u001b[39m2\u001b[39;49m,\u001b[39m6\u001b[39;49m],\n\u001b[1;32m      <a href='vscode-notebook-cell:/Users/shivamsahil/Downloads/bits/assignments/2487/assignment_1.ipynb#X10sZmlsZQ%3D%3D?line=4'>5</a>\u001b[0m         [\u001b[39m3\u001b[39;49m,\u001b[39m4\u001b[39;49m,\u001b[39m2\u001b[39;49m,\u001b[39m2\u001b[39;49m,\u001b[39m2\u001b[39;49m,\u001b[39m6\u001b[39;49m,\u001b[39m4\u001b[39;49m],\n\u001b[1;32m      <a href='vscode-notebook-cell:/Users/shivamsahil/Downloads/bits/assignments/2487/assignment_1.ipynb#X10sZmlsZQ%3D%3D?line=5'>6</a>\u001b[0m         [\u001b[39m2\u001b[39;49m,\u001b[39m2\u001b[39;49m,\u001b[39m2\u001b[39;49m,\u001b[39m2\u001b[39;49m,\u001b[39m4\u001b[39;49m,\u001b[39m3\u001b[39;49m,\u001b[39m3\u001b[39;49m],\n\u001b[1;32m      <a href='vscode-notebook-cell:/Users/shivamsahil/Downloads/bits/assignments/2487/assignment_1.ipynb#X10sZmlsZQ%3D%3D?line=6'>7</a>\u001b[0m         [\u001b[39m3\u001b[39;49m,\u001b[39m2\u001b[39;49m,\u001b[39m4\u001b[39;49m,\u001b[39m2\u001b[39;49m,\u001b[39m2\u001b[39;49m,\u001b[39m4\u001b[39;49m,\u001b[39m2\u001b[39;49m]\n\u001b[1;32m      <a href='vscode-notebook-cell:/Users/shivamsahil/Downloads/bits/assignments/2487/assignment_1.ipynb#X10sZmlsZQ%3D%3D?line=7'>8</a>\u001b[0m     ],\n\u001b[1;32m      <a href='vscode-notebook-cell:/Users/shivamsahil/Downloads/bits/assignments/2487/assignment_1.ipynb#X10sZmlsZQ%3D%3D?line=8'>9</a>\u001b[0m     [\u001b[39m1\u001b[39;49m,\u001b[39m14\u001b[39;49m,\u001b[39m-\u001b[39;49m\u001b[39m1\u001b[39;49m,\u001b[39m5\u001b[39;49m,\u001b[39m-\u001b[39;49m\u001b[39m3\u001b[39;49m]\n\u001b[1;32m     <a href='vscode-notebook-cell:/Users/shivamsahil/Downloads/bits/assignments/2487/assignment_1.ipynb#X10sZmlsZQ%3D%3D?line=9'>10</a>\u001b[0m )\n\u001b[1;32m     <a href='vscode-notebook-cell:/Users/shivamsahil/Downloads/bits/assignments/2487/assignment_1.ipynb#X10sZmlsZQ%3D%3D?line=10'>11</a>\u001b[0m (reducedRowEchelon,pivot_cols, non_pivot_cols) \u001b[39m=\u001b[39m RREF(refMatrix)\n\u001b[1;32m     <a href='vscode-notebook-cell:/Users/shivamsahil/Downloads/bits/assignments/2487/assignment_1.ipynb#X10sZmlsZQ%3D%3D?line=11'>12</a>\u001b[0m solution \u001b[39m=\u001b[39m solveEquation(reducedRowEchelon, non_pivot_cols)\n",
      "\u001b[1;32m/Users/shivamsahil/Downloads/bits/assignments/2487/assignment_1.ipynb Cell 4\u001b[0m line \u001b[0;36m6\n\u001b[1;32m     <a href='vscode-notebook-cell:/Users/shivamsahil/Downloads/bits/assignments/2487/assignment_1.ipynb#X10sZmlsZQ%3D%3D?line=59'>60</a>\u001b[0m \u001b[39mdef\u001b[39;00m \u001b[39mREF\u001b[39m(A, b):\n\u001b[1;32m     <a href='vscode-notebook-cell:/Users/shivamsahil/Downloads/bits/assignments/2487/assignment_1.ipynb#X10sZmlsZQ%3D%3D?line=60'>61</a>\u001b[0m     augmentedMatrix \u001b[39m=\u001b[39m getAugmentedMatrix(A, b)\n\u001b[0;32m---> <a href='vscode-notebook-cell:/Users/shivamsahil/Downloads/bits/assignments/2487/assignment_1.ipynb#X10sZmlsZQ%3D%3D?line=61'>62</a>\u001b[0m     reducedMatrix \u001b[39m=\u001b[39m reduceRows(augmentedMatrix)\n\u001b[1;32m     <a href='vscode-notebook-cell:/Users/shivamsahil/Downloads/bits/assignments/2487/assignment_1.ipynb#X10sZmlsZQ%3D%3D?line=62'>63</a>\u001b[0m     \u001b[39mreturn\u001b[39;00m reducedMatrix\n",
      "\u001b[1;32m/Users/shivamsahil/Downloads/bits/assignments/2487/assignment_1.ipynb Cell 4\u001b[0m line \u001b[0;36m5\n\u001b[1;32m     <a href='vscode-notebook-cell:/Users/shivamsahil/Downloads/bits/assignments/2487/assignment_1.ipynb#X10sZmlsZQ%3D%3D?line=52'>53</a>\u001b[0m             newRowElement \u001b[39m=\u001b[39m matrix[row][j] \u001b[39m-\u001b[39m (multiplicationCoEfficient \u001b[39m*\u001b[39m matrix[row\u001b[39m-\u001b[39m\u001b[39m1\u001b[39m][j])\n\u001b[1;32m     <a href='vscode-notebook-cell:/Users/shivamsahil/Downloads/bits/assignments/2487/assignment_1.ipynb#X10sZmlsZQ%3D%3D?line=53'>54</a>\u001b[0m             newRow\u001b[39m.\u001b[39mappend(newRowElement)\n\u001b[0;32m---> <a href='vscode-notebook-cell:/Users/shivamsahil/Downloads/bits/assignments/2487/assignment_1.ipynb#X10sZmlsZQ%3D%3D?line=54'>55</a>\u001b[0m         matrix[row] \u001b[39m=\u001b[39m convertLeadingRowToUnit(newRow,row)\n\u001b[1;32m     <a href='vscode-notebook-cell:/Users/shivamsahil/Downloads/bits/assignments/2487/assignment_1.ipynb#X10sZmlsZQ%3D%3D?line=56'>57</a>\u001b[0m \u001b[39mreturn\u001b[39;00m matrix\n",
      "\u001b[1;32m/Users/shivamsahil/Downloads/bits/assignments/2487/assignment_1.ipynb Cell 4\u001b[0m line \u001b[0;36m3\n\u001b[1;32m     <a href='vscode-notebook-cell:/Users/shivamsahil/Downloads/bits/assignments/2487/assignment_1.ipynb#X10sZmlsZQ%3D%3D?line=29'>30</a>\u001b[0m \u001b[39mdef\u001b[39;00m \u001b[39mconvertLeadingRowToUnit\u001b[39m(row,leadingElementIndex):\n\u001b[1;32m     <a href='vscode-notebook-cell:/Users/shivamsahil/Downloads/bits/assignments/2487/assignment_1.ipynb#X10sZmlsZQ%3D%3D?line=30'>31</a>\u001b[0m     \u001b[39mif\u001b[39;00m(row[leadingElementIndex] \u001b[39m==\u001b[39m \u001b[39m0\u001b[39m):\n\u001b[0;32m---> <a href='vscode-notebook-cell:/Users/shivamsahil/Downloads/bits/assignments/2487/assignment_1.ipynb#X10sZmlsZQ%3D%3D?line=31'>32</a>\u001b[0m         \u001b[39mraise\u001b[39;00m \u001b[39mRuntimeError\u001b[39;00m(\u001b[39m\"\u001b[39m\u001b[39mSingularity Error! Cannot divide by zero\u001b[39m\u001b[39m\"\u001b[39m)\n\u001b[1;32m     <a href='vscode-notebook-cell:/Users/shivamsahil/Downloads/bits/assignments/2487/assignment_1.ipynb#X10sZmlsZQ%3D%3D?line=32'>33</a>\u001b[0m     leadingElement \u001b[39m=\u001b[39m row[leadingElementIndex]\n\u001b[1;32m     <a href='vscode-notebook-cell:/Users/shivamsahil/Downloads/bits/assignments/2487/assignment_1.ipynb#X10sZmlsZQ%3D%3D?line=33'>34</a>\u001b[0m     newRow \u001b[39m=\u001b[39m []\n",
      "\u001b[0;31mRuntimeError\u001b[0m: Singularity Error! Cannot divide by zero"
     ]
    }
   ],
   "source": [
    "refMatrix = REF(\n",
    "    [\n",
    "        [1,1,4,3,4,2,2],\n",
    "        [4,6,8,4,3,-2,6],\n",
    "        [3,4,2,2,2,6,4],\n",
    "        [2,2,2,2,4,3,3],\n",
    "        [3,2,4,2,2,4,2]\n",
    "    ],\n",
    "    [1,14,-1,5,-3]\n",
    ")\n",
    "(reducedRowEchelon,pivot_cols, non_pivot_cols) = RREF(refMatrix)\n",
    "solution = solveEquation(reducedRowEchelon, non_pivot_cols)\n",
    "print(solution[0])\n"
   ]
  },
  {
   "cell_type": "code",
   "execution_count": 103,
   "metadata": {},
   "outputs": [
    {
     "name": "stdout",
     "output_type": "stream",
     "text": [
      "({3: 0, 0: 0.0, 1: 0.0, 2: 0.0}, [{3: -0.0}, {3: -0.0}, {3: -0.0}])\n"
     ]
    }
   ],
   "source": [
    "refMatrix = REF(\n",
    "    [\n",
    "        [1,-2,1],[\n",
    "        1,-1,2],\n",
    "        [0,-2,2]\n",
    "    ],\n",
    "    [0,0,0] \n",
    "    )\n",
    "(reducedRowEchelon,pivot_cols, non_pivot_cols) = RREF(refMatrix)\n",
    "solution = solveEquation(reducedRowEchelon, non_pivot_cols)\n",
    "print(solution)\n"
   ]
  }
 ],
 "metadata": {
  "kernelspec": {
   "display_name": "Python 3",
   "language": "python",
   "name": "python3"
  },
  "language_info": {
   "codemirror_mode": {
    "name": "ipython",
    "version": 3
   },
   "file_extension": ".py",
   "mimetype": "text/x-python",
   "name": "python",
   "nbconvert_exporter": "python",
   "pygments_lexer": "ipython3",
   "version": "3.12.0"
  }
 },
 "nbformat": 4,
 "nbformat_minor": 2
}
